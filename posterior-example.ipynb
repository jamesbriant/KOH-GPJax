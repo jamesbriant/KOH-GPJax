{
 "cells": [
  {
   "cell_type": "code",
   "execution_count": 1,
   "metadata": {},
   "outputs": [
    {
     "name": "stderr",
     "output_type": "stream",
     "text": [
      "/Users/jamesbriant/miniforge3/envs/py311/lib/python3.11/site-packages/tqdm/auto.py:21: TqdmWarning: IProgress not found. Please update jupyter and ipywidgets. See https://ipywidgets.readthedocs.io/en/stable/user_install.html\n",
      "  from .autonotebook import tqdm as notebook_tqdm\n"
     ]
    }
   ],
   "source": [
    "# Enable Float64 for more stable matrix inversions.\n",
    "from jax import config\n",
    "config.update(\"jax_enable_x64\", True)\n",
    "\n",
    "import numpy as np\n",
    "\n",
    "import jax.numpy as jnp\n",
    "from jax import random\n",
    "from jax import jit\n",
    "\n",
    "import gpjax as gpx\n",
    "from kohgpjax.kohkernel import KOHKernel\n",
    "\n",
    "key = random.PRNGKey(123)"
   ]
  },
  {
   "cell_type": "markdown",
   "metadata": {},
   "source": [
    "# Load Data"
   ]
  },
  {
   "cell_type": "code",
   "execution_count": 2,
   "metadata": {},
   "outputs": [],
   "source": [
    "\n",
    "DATAFIELD = np.loadtxt('data/simple_field.csv', delimiter=',', dtype=np.float32)\n",
    "DATACOMP = np.loadtxt('data/simple_comp.csv', delimiter=',', dtype=np.float32)\n",
    "\n",
    "num_obs = DATAFIELD.shape[0]\n",
    "\n",
    "xf = np.reshape(DATAFIELD[:, 0], (-1, 1))\n",
    "xc = np.reshape(DATACOMP[:, 0], (-1,1))\n",
    "tc = np.reshape(DATACOMP[:, 1], (-1,1))\n",
    "yf = np.reshape(DATAFIELD[:, 1], (-1,1))\n",
    "yc = np.reshape(DATACOMP[:, 2], (-1,1))\n",
    "\n",
    "\n",
    "\n",
    "#Standardize full response using mean and std of yc\n",
    "yc_mean = np.mean(yc)\n",
    "# yc_std = np.std(yc)\n",
    "yc_std = np.std(yc, ddof=1) #estimate is now unbiased\n",
    "x_min = min(xf.min(), xc.min())\n",
    "x_max = max(xf.max(), xc.max())\n",
    "t_min = tc.min()\n",
    "t_max = tc.max()\n",
    "\n",
    "xf_normalized = (xf - x_min)/(x_max - x_min)\n",
    "xc_normalized = (xc - x_min)/(x_max - x_min)\n",
    "# tc_normalized = np.zeros_like(tc)\n",
    "# for k in range(tc.shape[1]):\n",
    "#     tc_normalized[:, k] = (tc[:, k] - np.min(tc[:, k]))/(np.max(tc[:, k]) - np.min(tc[:, k]))\n",
    "tc_normalized = (tc - t_min)/(t_max - t_min)\n",
    "yc_standardized = (yc - yc_mean)/yc_std\n",
    "yf_standardized = (yf - yc_mean)/yc_std\n",
    "\n",
    "theta = 0.5\n",
    "\n",
    "x = jnp.vstack((xf_normalized, xc_normalized))\n",
    "t = jnp.vstack((jnp.zeros((xf_normalized.shape[0], tc_normalized.shape[1])) + theta, tc_normalized))\n",
    "x = jnp.hstack((x, t), dtype=np.float64)\n",
    "y = jnp.vstack((yf_standardized, yc_standardized), dtype=np.float64)\n",
    "\n",
    "data = gpx.Dataset(X=x, y=y)"
   ]
  },
  {
   "cell_type": "markdown",
   "metadata": {},
   "source": [
    "# Create Prior"
   ]
  },
  {
   "cell_type": "code",
   "execution_count": 3,
   "metadata": {},
   "outputs": [],
   "source": [
    "\n",
    "product_kernel = gpx.kernels.ProductKernel(kernels=[\n",
    "        gpx.kernels.RBF(\n",
    "            active_dims=[0],\n",
    "            lengthscale=jnp.array(1/jnp.sqrt(2*50)),\n",
    "        ), \n",
    "        gpx.kernels.RBF(\n",
    "            active_dims=[1],\n",
    "            lengthscale=jnp.array(1/jnp.sqrt(2*7)),\n",
    "        )\n",
    "    ])\n",
    "\n",
    "kernel = KOHKernel(\n",
    "    num_obs=num_obs,\n",
    "    k_eta=product_kernel,\n",
    "    k_delta=gpx.kernels.White(\n",
    "        active_dims=[0],\n",
    "        # lengthscale=jnp.array(1/jnp.sqrt(2*2)),\n",
    "        variance=jnp.array(1/30)\n",
    "    ), \n",
    "    k_epsilon=gpx.kernels.White(\n",
    "        active_dims=[0],\n",
    "        variance=jnp.array(1/1000)\n",
    "    ),\n",
    "    k_epsilon_eta=gpx.kernels.White(\n",
    "        active_dims=[0],\n",
    "        variance=jnp.array(1/10000)\n",
    "    ),\n",
    ")\n",
    "meanf = gpx.mean_functions.Zero()\n",
    "prior = gpx.Prior(\n",
    "    mean_function=meanf, \n",
    "    kernel=kernel,\n",
    "    jitter=0.\n",
    ")"
   ]
  },
  {
   "cell_type": "markdown",
   "metadata": {},
   "source": [
    "# Build Posterior"
   ]
  },
  {
   "cell_type": "code",
   "execution_count": 4,
   "metadata": {},
   "outputs": [
    {
     "name": "stdout",
     "output_type": "stream",
     "text": [
      "-740.7842095061286\n"
     ]
    }
   ],
   "source": [
    "likelihood = gpx.likelihoods.Gaussian(\n",
    "    num_datapoints=data.n,\n",
    "    obs_stddev=jnp.array(0.0)\n",
    ")\n",
    "\n",
    "posterior = prior * likelihood\n",
    "\n",
    "negative_mll = jit(gpx.objectives.ConjugateMLL(negative=True))\n",
    "nll = negative_mll(posterior, train_data=data)\n",
    "\n",
    "print(nll - 0.5*data.n*jnp.log(2*jnp.pi))"
   ]
  }
 ],
 "metadata": {
  "kernelspec": {
   "display_name": "py311",
   "language": "python",
   "name": "python3"
  },
  "language_info": {
   "codemirror_mode": {
    "name": "ipython",
    "version": 3
   },
   "file_extension": ".py",
   "mimetype": "text/x-python",
   "name": "python",
   "nbconvert_exporter": "python",
   "pygments_lexer": "ipython3",
   "version": "3.11.6"
  }
 },
 "nbformat": 4,
 "nbformat_minor": 2
}
